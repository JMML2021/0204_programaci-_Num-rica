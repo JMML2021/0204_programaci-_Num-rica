{
 "cells": [
  {
   "cell_type": "markdown",
   "id": "93b6ab98",
   "metadata": {},
   "source": [
    "# Nivell 1"
   ]
  },
  {
   "cell_type": "markdown",
   "id": "180fcb06",
   "metadata": {},
   "source": [
    "## Exercici 1"
   ]
  },
  {
   "cell_type": "markdown",
   "id": "3cfa7bf7",
   "metadata": {},
   "source": [
    "Crea una funció que donat un Array d’una dimensió, et faci un resum estadístic bàsic de les dades. Si detecta que l’array té més d’una dimensió, ha de mostrar un missatge d’error."
   ]
  },
  {
   "cell_type": "code",
   "execution_count": 1,
   "id": "911e4968",
   "metadata": {
    "ExecuteTime": {
     "end_time": "2022-06-04T04:21:45.709195Z",
     "start_time": "2022-06-04T04:21:45.702215Z"
    }
   },
   "outputs": [
    {
     "data": {
      "text/plain": [
       "(3,)"
      ]
     },
     "execution_count": 1,
     "metadata": {},
     "output_type": "execute_result"
    }
   ],
   "source": [
    "import numpy as np\n",
    "\n",
    "a = np.array([127, 128, 129], dtype=np.int8)\n",
    "a.shape"
   ]
  },
  {
   "cell_type": "code",
   "execution_count": 8,
   "id": "b7d1243c",
   "metadata": {
    "ExecuteTime": {
     "end_time": "2022-06-04T04:27:42.181011Z",
     "start_time": "2022-06-04T04:27:37.796111Z"
    }
   },
   "outputs": [
    {
     "name": "stdout",
     "output_type": "stream",
     "text": [
      "Cantidad de numeros a crear? 25\n",
      "Dimensió de l'array? 1\n",
      "..........\n",
      "\n",
      "[[0.5488135 ]\n",
      " [0.71518937]\n",
      " [0.60276338]\n",
      " [0.54488318]\n",
      " [0.4236548 ]\n",
      " [0.64589411]\n",
      " [0.43758721]\n",
      " [0.891773  ]\n",
      " [0.96366276]\n",
      " [0.38344152]\n",
      " [0.79172504]\n",
      " [0.52889492]\n",
      " [0.56804456]\n",
      " [0.92559664]\n",
      " [0.07103606]\n",
      " [0.0871293 ]\n",
      " [0.0202184 ]\n",
      " [0.83261985]\n",
      " [0.77815675]\n",
      " [0.87001215]\n",
      " [0.97861834]\n",
      " [0.79915856]\n",
      " [0.46147936]\n",
      " [0.78052918]\n",
      " [0.11827443]]\n",
      "\n",
      "\n",
      " ERROR: L’array té més d’una dimensió\n"
     ]
    }
   ],
   "source": [
    "np.random.seed(0)\n",
    "\n",
    "def estadistica (matriz):\n",
    "    forma = matriz.shape\n",
    "    if forma[0] ==1:\n",
    "        print('La media es: ', round(matriz.mean(),2))\n",
    "        x = np.random.rand(dim,num)\n",
    "        \n",
    "    else:\n",
    "        print('\\n\\n ERROR: L’array té més d’una dimensió')\n",
    "\n",
    "num = int(input('Cantidad de numeros a crear? '))\n",
    "dim = int(input(\"Dimensió de l'array? \"))\n",
    "\n",
    "\n",
    "print('..........\\n')\n",
    "print(x)\n",
    "\n",
    "estadistica(x)"
   ]
  },
  {
   "cell_type": "markdown",
   "id": "036319d2",
   "metadata": {
    "ExecuteTime": {
     "end_time": "2022-05-31T19:09:01.874499Z",
     "start_time": "2022-05-31T19:09:01.868515Z"
    }
   },
   "source": [
    "# #Exercici 2"
   ]
  },
  {
   "cell_type": "markdown",
   "id": "cc30adc8",
   "metadata": {},
   "source": [
    "Crea una funció que et generi un quadrat NxN de nombres aleatoris entre el 0 i el 100."
   ]
  },
  {
   "cell_type": "code",
   "execution_count": 9,
   "id": "b28e8b90",
   "metadata": {
    "ExecuteTime": {
     "end_time": "2022-06-04T04:27:52.090557Z",
     "start_time": "2022-06-04T04:27:48.475104Z"
    }
   },
   "outputs": [
    {
     "name": "stdout",
     "output_type": "stream",
     "text": [
      "Tamany de la matriu? 6\n",
      "[[54.88135039 71.51893664 60.27633761 54.4883183  42.36547993 64.58941131]\n",
      " [43.75872113 89.17730008 96.36627605 38.34415188 79.17250381 52.88949198]\n",
      " [56.80445611 92.55966383  7.10360582  8.71292997  2.02183974 83.26198455]\n",
      " [77.81567509 87.00121482 97.86183422 79.91585642 46.14793623 78.05291763]\n",
      " [11.82744259 63.99210213 14.33532874 94.4668917  52.18483218 41.466194  ]\n",
      " [26.45556121 77.42336894 45.61503322 56.84339489  1.87898004 61.76354971]]\n"
     ]
    }
   ],
   "source": [
    "# Generará números aleatorios de la matriz\n",
    "\n",
    "def matriuQuadrat(n):\n",
    "    x = (np.random.rand(N, N))*100\n",
    "    print(x)\n",
    "    \n",
    "N = int(input('Tamany de la matriu? '))\n",
    "matriuQuadrat(N)\n"
   ]
  },
  {
   "cell_type": "markdown",
   "id": "ccc01eac",
   "metadata": {
    "ExecuteTime": {
     "end_time": "2022-05-31T19:15:49.075364Z",
     "start_time": "2022-05-31T19:15:49.071375Z"
    }
   },
   "source": [
    "# Exercici 3\n",
    "##Crea una funció que donada una taula de dues dimensions, et calculi els totals per fila i els totals per columna."
   ]
  },
  {
   "cell_type": "code",
   "execution_count": 10,
   "id": "e1a08ac4",
   "metadata": {
    "ExecuteTime": {
     "end_time": "2022-06-04T04:28:28.241109Z",
     "start_time": "2022-06-04T04:28:28.225118Z"
    }
   },
   "outputs": [
    {
     "name": "stdout",
     "output_type": "stream",
     "text": [
      "[[61.20957227 61.69339969]\n",
      " [94.37480785 68.18202991]]\n",
      "\n",
      "Suma por columnas  [155.58438012 129.8754296 ]\n",
      "Suma por filas  [122.90297196 162.55683776]\n"
     ]
    }
   ],
   "source": [
    "def matriuQuadrat(n):\n",
    "    x = (np.random.rand(N, N))*100\n",
    "    print(x)\n",
    "    print('\\nSuma por columnas ', np.apply_along_axis(sum, 0, x))\n",
    "    print('Suma por filas ', np.apply_along_axis(sum, 1, x))\n",
    "    #print((x.sum(), axis=0)\n",
    "    \n",
    "#N = int(input('Tamany de la matriu? '))\n",
    "N=2\n",
    "matriuQuadrat(N)\n"
   ]
  },
  {
   "cell_type": "markdown",
   "id": "32abadf8",
   "metadata": {},
   "source": [
    "# Exercici 4"
   ]
  },
  {
   "cell_type": "markdown",
   "id": "9baec2ce",
   "metadata": {},
   "source": [
    "Implementa manualment una funció que calculi el coeficient de correlació. Informa’t-en sobre els seus usos i interpretació."
   ]
  },
  {
   "cell_type": "code",
   "execution_count": 11,
   "id": "a64be760",
   "metadata": {
    "ExecuteTime": {
     "end_time": "2022-06-04T04:28:46.983797Z",
     "start_time": "2022-06-04T04:28:46.185079Z"
    }
   },
   "outputs": [
    {
     "name": "stdout",
     "output_type": "stream",
     "text": [
      "[[1.         0.78279369]\n",
      " [0.78279369 1.        ]]\n",
      "Pendiente positiva\n",
      "correlación fuerte\n"
     ]
    },
    {
     "data": {
      "image/png": "[encoded data removed]",
      "text/plain": [
       "<Figure size 432x288 with 1 Axes>"
      ]
     },
     "metadata": {
      "needs_background": "light"
     },
     "output_type": "display_data"
    }
   ],
   "source": [
    "import matplotlib.pyplot as plt\n",
    "\n",
    "x = np.array([0, -2, -1, 0, 1, 2])\n",
    "y = np.array([2, 0, 1, 3, 2, 2.5])\n",
    "my_rho = np.corrcoef(x, y)\n",
    "\n",
    "print(my_rho)\n",
    "\n",
    "plt.scatter(x,y)\n",
    "\n",
    "\n",
    "if my_rho[0][1]<0:\n",
    "    print('Correlación negativa, Significa pendiente <90º')\n",
    "    \n",
    "else:\n",
    "    print('Pendiente positiva')\n",
    "if abs(my_rho[0][1])>0 and abs(my_rho[0][1])<0.1 :\n",
    "    print('Buena correlación inexistente')\n",
    "    \n",
    "elif abs(my_rho[0][1])>=0.0 and abs(my_rho[0][1])<0.29 :\n",
    "    print(' correlación débil')\n",
    "\n",
    "elif abs(my_rho[0][1])>=0.3 and abs(my_rho[0][1])<0.5 :\n",
    "    print('Correlación moderada')\n",
    "    \n",
    "elif abs(my_rho[0][1])>=0.5:   # Mai pot ser > 1\n",
    "    print('correlación fuerte')\n",
    "    \n"
   ]
  },
  {
   "cell_type": "code",
   "execution_count": null,
   "id": "e7a01afa",
   "metadata": {},
   "outputs": [],
   "source": []
  }
 ],
 "metadata": {
  "hide_input": false,
  "kernelspec": {
   "display_name": "Python 3 (ipykernel)",
   "language": "python",
   "name": "python3"
  },
  "language_info": {
   "codemirror_mode": {
    "name": "ipython",
    "version": 3
   },
   "file_extension": ".py",
   "mimetype": "text/x-python",
   "name": "python",
   "nbconvert_exporter": "python",
   "pygments_lexer": "ipython3",
   "version": "3.8.8"
  },
  "toc": {
   "base_numbering": 1,
   "nav_menu": {},
   "number_sections": true,
   "sideBar": true,
   "skip_h1_title": false,
   "title_cell": "Table of Contents",
   "title_sidebar": "Contents",
   "toc_cell": false,
   "toc_position": {},
   "toc_section_display": true,
   "toc_window_display": true
  },
  "varInspector": {
   "cols": {
    "lenName": 16,
    "lenType": 16,
    "lenVar": 40
   },
   "kernels_config": {
    "python": {
     "delete_cmd_postfix": "",
     "delete_cmd_prefix": "del ",
     "library": "var_list.py",
     "varRefreshCmd": "print(var_dic_list())"
    },
    "r": {
     "delete_cmd_postfix": ") ",
     "delete_cmd_prefix": "rm(",
     "library": "var_list.r",
     "varRefreshCmd": "cat(var_dic_list()) "
    }
   },
   "types_to_exclude": [
    "module",
    "function",
    "builtin_function_or_method",
    "instance",
    "_Feature"
   ],
   "window_display": false
  }
 },
 "nbformat": 4,
 "nbformat_minor": 5
}
